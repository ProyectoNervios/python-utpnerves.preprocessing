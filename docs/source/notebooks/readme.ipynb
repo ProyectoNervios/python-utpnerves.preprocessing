{
 "cells": [
  {
   "cell_type": "markdown",
   "id": "a5e10cae-48e5-48d5-82c2-fc14df1ff045",
   "metadata": {},
   "source": [
    "# UTPNerves - Preprocessing "
   ]
  },
  {
   "cell_type": "markdown",
   "id": "418e38c0-3c37-4632-b888-e106b4e771bc",
   "metadata": {},
   "source": [
    "## Installation"
   ]
  },
  {
   "cell_type": "code",
   "execution_count": null,
   "id": "4ff7ec49-b400-4471-8363-b091650e9418",
   "metadata": {},
   "outputs": [],
   "source": [
    "!pip install -U git+https://github.com/ProyectoNervios/python-preprocessing.git"
   ]
  },
  {
   "cell_type": "markdown",
   "id": "2715a533-fad5-4bcb-b802-6e51760d6561",
   "metadata": {},
   "source": [
    "## Usage"
   ]
  },
  {
   "cell_type": "code",
   "execution_count": null,
   "id": "82b81fe0-856f-4325-bda2-0a2ea207361b",
   "metadata": {},
   "outputs": [],
   "source": [
    "from utpnerves.preprocessing import Process\n",
    "\n",
    "p = Process()\n",
    "clean image = p.transform(raw_array)"
   ]
  }
 ],
 "metadata": {
  "kernelspec": {
   "display_name": "Python 3 (ipykernel)",
   "language": "python",
   "name": "python3"
  },
  "language_info": {
   "codemirror_mode": {
    "name": "ipython",
    "version": 3
   },
   "file_extension": ".py",
   "mimetype": "text/x-python",
   "name": "python",
   "nbconvert_exporter": "python",
   "pygments_lexer": "ipython3",
   "version": "3.11.3"
  }
 },
 "nbformat": 4,
 "nbformat_minor": 5
}
